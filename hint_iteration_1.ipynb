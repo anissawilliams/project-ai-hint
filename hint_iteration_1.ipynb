{
 "cells": [
  {
   "cell_type": "code",
   "execution_count": 1,
   "id": "319934fb",
   "metadata": {},
   "outputs": [
    {
     "name": "stdout",
     "output_type": "stream",
     "text": [
      "/home/user/anaconda3/bin/python\n"
     ]
    }
   ],
   "source": [
    "!which python\n"
   ]
  },
  {
   "cell_type": "code",
   "execution_count": null,
   "id": "7f0d12a4",
   "metadata": {},
   "outputs": [
    {
     "name": "stderr",
     "output_type": "stream",
     "text": [
      "/tmp/ipykernel_11691/3456212119.py:3: LangChainDeprecationWarning: The class `Ollama` was deprecated in LangChain 0.3.1 and will be removed in 1.0.0. An updated version of the class exists in the :class:`~langchain-ollama package and should be used instead. To use it run `pip install -U :class:`~langchain-ollama` and import as `from :class:`~langchain_ollama import OllamaLLM``.\n",
      "  llm = Ollama(model=\"llama3\")\n"
     ]
    },
    {
     "name": "stdout",
     "output_type": "stream",
     "text": [
      "Java inheritance is a fundamental concept in object-oriented programming (OOP) that allows one class to inherit the properties and behavior of another class.\n",
      "\n",
      "Think of it like a family tree:\n",
      "\n",
      "* A parent class (also called the superclass or base class) has its own characteristics, methods, and behaviors.\n",
      "* A child class (also called the subclass or derived class) inherits everything from the parent class and can also add new things or override some of the existing ones.\n",
      "\n",
      "Here's a simple example:\n",
      "\n",
      "**Parent Class: Animal**\n",
      "```java\n",
      "public class Animal {\n",
      "    public void sound() {\n",
      "        System.out.println(\"The animal makes a generic sound\");\n",
      "    }\n",
      "}\n",
      "```\n",
      "**Child Class: Dog**\n",
      "```java\n",
      "public class Dog extends Animal { // \"extends\" means inheritance\n",
      "    public void sound() {\n",
      "        System.out.println(\"The dog barks\");\n",
      "    }\n",
      "}\n",
      "```\n",
      "In this example:\n",
      "\n",
      "* The `Animal` class is the parent, and it has a method called `sound()` that prints a generic message.\n",
      "* The `Dog` class is the child, which inherits everything from `Animal`. It also overrides the `sound()` method to print a specific message for dogs.\n",
      "\n",
      "When you create an instance of `Dog`, it will have access to all the methods and properties inherited from `Animal`, including the overridden `sound()` method. For example:\n",
      "```java\n",
      "Dog myDog = new Dog();\n",
      "myDog.sound(); // Output: \"The dog barks\"\n",
      "```\n",
      "Key points about Java inheritance:\n",
      "\n",
      "1. A child class inherits everything from its parent class, including fields (variables) and methods.\n",
      "2. A child class can override methods inherited from the parent class to provide a specific implementation for itself.\n",
      "3. A child class can also add new methods or fields that are not present in the parent class.\n",
      "\n",
      "Inheritance helps you create a hierarchy of classes, where each child class builds upon the characteristics and behavior of its parent class. This promotes code reuse, reduces duplication, and makes your code more organized and maintainable!\n"
     ]
    }
   ],
   "source": [
    "from langchain_community.llms import Ollama\n",
    "import pandas as pd\n",
    "\n",
    "llm = Ollama(model=\"llama3\")\n",
    "\n"
   ]
  },
  {
   "cell_type": "code",
   "execution_count": null,
   "id": "26b6f368",
   "metadata": {},
   "outputs": [],
   "source": [
    "\n",
    "import pandas as pd\n",
    "questions = [\n",
    "    \"What is polymorphism in Java?\",\n",
    "    \"Explain the difference between an interface and an abstract class.\",\n",
    "    \"How does inheritance improve code reuse?\"\n",
    "]\n",
    "df = pd.DataFrame(questions, columns=[\"question\"])"
   ]
  },
  {
   "cell_type": "code",
   "execution_count": 5,
   "id": "f13376e2",
   "metadata": {},
   "outputs": [],
   "source": [
    "def generate_explanation(question):\n",
    "    prompt = f\"You are a Java tutor. Explain the concept behind this question without giving the full answer: {question}\"\n",
    "    return llm.invoke(prompt)\n",
    "\n",
    "df[\"tutor_explanation\"] = df[\"question\"].apply(generate_explanation)\n"
   ]
  },
  {
   "cell_type": "code",
   "execution_count": 6,
   "id": "778550fa",
   "metadata": {},
   "outputs": [
    {
     "data": {
      "text/html": [
       "<div>\n",
       "<style scoped>\n",
       "    .dataframe tbody tr th:only-of-type {\n",
       "        vertical-align: middle;\n",
       "    }\n",
       "\n",
       "    .dataframe tbody tr th {\n",
       "        vertical-align: top;\n",
       "    }\n",
       "\n",
       "    .dataframe thead th {\n",
       "        text-align: right;\n",
       "    }\n",
       "</style>\n",
       "<table border=\"1\" class=\"dataframe\">\n",
       "  <thead>\n",
       "    <tr style=\"text-align: right;\">\n",
       "      <th></th>\n",
       "      <th>question</th>\n",
       "      <th>tutor_explanation</th>\n",
       "    </tr>\n",
       "  </thead>\n",
       "  <tbody>\n",
       "    <tr>\n",
       "      <th>0</th>\n",
       "      <td>What is polymorphism in Java?</td>\n",
       "      <td>Polymorphism! One of the most fascinating and ...</td>\n",
       "    </tr>\n",
       "    <tr>\n",
       "      <th>1</th>\n",
       "      <td>Explain the difference between an interface an...</td>\n",
       "      <td>In Java, both interfaces and abstract classes ...</td>\n",
       "    </tr>\n",
       "    <tr>\n",
       "      <th>2</th>\n",
       "      <td>How does inheritance improve code reuse?</td>\n",
       "      <td>Inheritance is a fundamental concept in object...</td>\n",
       "    </tr>\n",
       "  </tbody>\n",
       "</table>\n",
       "</div>"
      ],
      "text/plain": [
       "                                            question  \\\n",
       "0                      What is polymorphism in Java?   \n",
       "1  Explain the difference between an interface an...   \n",
       "2           How does inheritance improve code reuse?   \n",
       "\n",
       "                                   tutor_explanation  \n",
       "0  Polymorphism! One of the most fascinating and ...  \n",
       "1  In Java, both interfaces and abstract classes ...  \n",
       "2  Inheritance is a fundamental concept in object...  "
      ]
     },
     "execution_count": 6,
     "metadata": {},
     "output_type": "execute_result"
    }
   ],
   "source": [
    "df.head()\n"
   ]
  }
 ],
 "metadata": {
  "kernelspec": {
   "display_name": "base",
   "language": "python",
   "name": "python3"
  },
  "language_info": {
   "codemirror_mode": {
    "name": "ipython",
    "version": 3
   },
   "file_extension": ".py",
   "mimetype": "text/x-python",
   "name": "python",
   "nbconvert_exporter": "python",
   "pygments_lexer": "ipython3",
   "version": "3.13.5"
  }
 },
 "nbformat": 4,
 "nbformat_minor": 5
}
